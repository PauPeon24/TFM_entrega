{
 "cells": [
  {
   "cell_type": "code",
   "execution_count": 2,
   "metadata": {},
   "outputs": [],
   "source": [
    "import pandas as pd\n",
    "import openpyxl\n",
    "import math\n",
    "import statistics"
   ]
  },
  {
   "cell_type": "markdown",
   "metadata": {},
   "source": [
    "# Repartiment d'escons per provincia segons el mètode"
   ]
  },
  {
   "cell_type": "markdown",
   "metadata": {},
   "source": [
    "Diccionari amb el nombre de votants per provincia"
   ]
  },
  {
   "cell_type": "code",
   "execution_count": 7,
   "metadata": {},
   "outputs": [
    {
     "data": {
      "text/plain": [
       "{'A Coruña': 8.0,\n",
       " 'Alacant': 12.0,\n",
       " 'Albacete': 4.0,\n",
       " 'Almería': 6.0,\n",
       " 'Álava': 4.0,\n",
       " 'Asturias': 7.0,\n",
       " 'Ávila': 3.0,\n",
       " 'Badajoz': 5.0,\n",
       " 'Barcelona': 32.0,\n",
       " 'Bizkaia': 8.0,\n",
       " 'Burgos': 4.0,\n",
       " 'Cáceres': 4.0,\n",
       " 'Cádiz': 9.0,\n",
       " 'Cantabria': 5.0,\n",
       " 'Castelló': 5.0,\n",
       " 'Ceuta': 1.0,\n",
       " 'Ciudad Real': 5.0,\n",
       " 'Córdoba': 6.0,\n",
       " 'Cuenca': 3.0,\n",
       " 'Gipuzkoa': 6.0,\n",
       " 'Girona': 6.0,\n",
       " 'Granada': 7.0,\n",
       " 'Guadalajara': 3.0,\n",
       " 'Huelva': 5.0,\n",
       " 'Huesca': 3.0,\n",
       " 'Illes Balears': 8.0,\n",
       " 'Jaén': 5.0,\n",
       " 'La Rioja': 4.0,\n",
       " 'Las Palmas': 8.0,\n",
       " 'León': 4.0,\n",
       " 'Lleida': 4.0,\n",
       " 'Lugo': 4.0,\n",
       " 'Madrid': 37.0,\n",
       " 'Málaga': 11.0,\n",
       " 'Melilla': 1.0,\n",
       " 'Murcia': 10.0,\n",
       " 'Navarra': 5.0,\n",
       " 'Ourense': 4.0,\n",
       " 'Palencia': 3.0,\n",
       " 'Pontevedra': 7.0,\n",
       " 'Salamanca': 4.0,\n",
       " 'Santa Cruz de Tenerife': 7.0,\n",
       " 'Segovia': 3.0,\n",
       " 'Sevilla': 12.0,\n",
       " 'Soria': 2.0,\n",
       " 'Tarragona': 6.0,\n",
       " 'Teruel': 3.0,\n",
       " 'Toledo': 6.0,\n",
       " 'Valencia': 16.0,\n",
       " 'Valladolid': 5.0,\n",
       " 'Zamora': 3.0,\n",
       " 'Zaragoza': 7.0,\n",
       " nan: nan}"
      ]
     },
     "execution_count": 7,
     "metadata": {},
     "output_type": "execute_result"
    }
   ],
   "source": [
    "votants = pd.read_excel(\"C:/Users/Pau Program/Documents/Mirror/UIB/MUSI/TFM/Votants_per_provincia.xlsx\")\n",
    "\n",
    "provincies = list(votants.iloc[:,0])\n",
    "escons_provincia = list(votants.iloc[:,6])\n",
    "\n",
    "escons_per_provincia = {provincia:escons for provincia, escons in zip(provincies, escons_provincia)} "
   ]
  },
  {
   "cell_type": "markdown",
   "metadata": {},
   "source": [
    "A Espanya, el repartiment d'escons per provincia ve establert en base a la quota Hare com s'indica a (insertar referencia de la junta electoral)"
   ]
  },
  {
   "cell_type": "markdown",
   "metadata": {},
   "source": [
    "El mètode D'Hont estableix que un partit pot obtenir un escon a la seva circumscirpció provincial només si supera el 3% dels vots totals. Així, els vots en blanc a l'únic que afecten és a incrementar el nombre de vots necessaris per obtenir un escon."
   ]
  },
  {
   "cell_type": "markdown",
   "metadata": {},
   "source": [
    "## Funcions"
   ]
  },
  {
   "cell_type": "code",
   "execution_count": 3,
   "metadata": {},
   "outputs": [],
   "source": [
    "def quota(p, h):\n",
    "    P = sum(p)\n",
    "    q = [h*pi/P for pi in p]\n",
    "\n",
    "    return q\n",
    "\n",
    "def hamilton(p, h):\n",
    "    # Calculam les quotes i els floors de les mateixes\n",
    "    q = quota(p, h)\n",
    "    b = [math.floor(qi) for qi in q]\n",
    "    \n",
    "    # Extreim la part decimal de les quotes\n",
    "    dec = [qi-bi for (qi, bi) in zip(q, b)]\n",
    "\n",
    "    # Guardam la posició de cada quota per saber a quina població correspon al realitzar l'ordenació\n",
    "    dec_pos = [(d,i) for (d,i) in zip(dec, range(0, len(p)))]\n",
    "    ordenada = sorted(dec_pos, key=lambda x: x[0], reverse = True)\n",
    "\n",
    "    # Calculam els escons que queden a repartir\n",
    "    rest = h -sum(b)\n",
    "\n",
    "    # Afegim un escon a les h-sum(b) poblacions amb les quotes amb part decimal més gran\n",
    "    for i in range(0, rest):\n",
    "        b[ordenada[i][1]] += 1\n",
    "        \n",
    "    return b"
   ]
  },
  {
   "cell_type": "code",
   "execution_count": 4,
   "metadata": {},
   "outputs": [],
   "source": [
    "def divisor_method(population, house, d):\n",
    "    escons = [0]*len(population)\n",
    "    if d == d_adams or d == d_dean or d == d_hill:\n",
    "        for i in range(0, house):\n",
    "            if i < len(escons):\n",
    "                escons[i] += 1 \n",
    "\n",
    "    while sum(escons) < house:\n",
    "        populations_compare = [p/d(e) for p,e in zip(population,escons)]\n",
    "        max_val = max(populations_compare)\n",
    "        max_ind = populations_compare.index(max_val)\n",
    "\n",
    "        escons[max_ind] += 1\n",
    "    \n",
    "    return escons\n",
    "\n",
    "def d_adams(a):\n",
    "    return a\n",
    "\n",
    "def d_jefferson(a):\n",
    "    return a + 1\n",
    "\n",
    "def d_webster(a):\n",
    "    return a + 1/2\n",
    "\n",
    "def d_dean(a):\n",
    "    return (a*(a+1))/(a + 1/2)\n",
    "\n",
    "def d_hill(a):\n",
    "    return math.sqrt(a*(a+1))"
   ]
  },
  {
   "cell_type": "code",
   "execution_count": 5,
   "metadata": {},
   "outputs": [],
   "source": [
    "def divisor(p, h, d):\n",
    "    # El primer divisor a provar és ds\n",
    "    ds = sum(p)/h\n",
    "    divisor = ds\n",
    "    inf = 0\n",
    "    sup = ds**10\n",
    "    a = [0]*len(p)\n",
    "    \n",
    "    i = 0\n",
    "    while sum(a) != h and i <= 1000:\n",
    "        i += 1\n",
    "        # Calculam les quotes modificades\n",
    "        q = [pi/divisor for pi in p]\n",
    "        # Calculam el repartiment\n",
    "        a = [math.floor(qi) if (d(math.floor(qi)) <= qi and qi <= d(math.floor(qi)+1)) else math.ceil(qi) for qi in q]\n",
    "        # Si la suma dels escons repartits és menor que la mida de la cambra, agafam un divisor menor\n",
    "        if sum(a) < h:\n",
    "            sup = divisor\n",
    "            divisor = statistics.mean([inf,sup])\n",
    "        # Si la suma dels escons a repartir és superior que la mida de la cambra, agafam un divisor superior\n",
    "        if sum(a) > h:\n",
    "            inf = divisor\n",
    "            divisor = statistics.mean([inf,sup])\n",
    "\n",
    "    # Si el mètode no ha estat capaç de trobar el divisor aplicam el mètode descrit a divisor_method\n",
    "    if sum(a) != h:\n",
    "        a = divisor_method(p,h,d)                \n",
    "    return a"
   ]
  },
  {
   "cell_type": "code",
   "execution_count": 6,
   "metadata": {},
   "outputs": [],
   "source": [
    "def Dhont(population, house):\n",
    "    escons = [0]*len(population)\n",
    "    while sum(escons) < house:\n",
    "        populations_compare = [p/(e+1) for p,e in zip(population,escons)]\n",
    "\n",
    "        max_val = max(populations_compare)\n",
    "        max_ind = populations_compare.index(max_val)\n",
    "\n",
    "        escons[max_ind] += 1\n",
    "    \n",
    "    return escons"
   ]
  },
  {
   "cell_type": "markdown",
   "metadata": {},
   "source": [
    "Jefferson y D'Hont son exactament el mateix mètode."
   ]
  },
  {
   "cell_type": "code",
   "execution_count": 7,
   "metadata": {},
   "outputs": [
    {
     "name": "stdout",
     "output_type": "stream",
     "text": [
      "[3, 1, 0, 0, 0]\n",
      "[2, 1, 1, 0, 0]\n",
      "[3, 1, 0, 0, 0]\n",
      "[2, 1, 1, 0, 0]\n",
      "[3, 1, 0, 0, 0]\n",
      "[3, 1, 0, 0, 0]\n"
     ]
    }
   ],
   "source": [
    "p = [287997, 188184, 81345, 66996, 33606]\n",
    "h = 4\n",
    "\n",
    "print(Dhont(p, h))\n",
    "print(hamilton(p,h))\n",
    "print(divisor(p,h,d_adams))\n",
    "print(divisor_method(p,h,d_webster))\n",
    "print(divisor(p,h,d_dean))\n",
    "print(divisor(p,h,d_hill))"
   ]
  },
  {
   "cell_type": "markdown",
   "metadata": {},
   "source": [
    "### Càlcul d'escons pels diferents mètodes"
   ]
  },
  {
   "cell_type": "code",
   "execution_count": 8,
   "metadata": {},
   "outputs": [
    {
     "name": "stdout",
     "output_type": "stream",
     "text": [
      "A Coruña\n",
      "Alacant\n",
      "Albacete\n",
      "Almería\n",
      "Álava\n",
      "Asturias\n",
      "Ávila\n",
      "Badajoz\n",
      "Barcelona\n",
      "Bizkaia\n",
      "Burgos\n",
      "Cáceres\n",
      "Cádiz\n",
      "Cantabria\n",
      "Castelló\n",
      "Ceuta\n",
      "Ciudad Real\n",
      "Córdoba\n",
      "Cuenca\n",
      "Gipuzkoa\n",
      "Girona\n",
      "Granada\n",
      "Guadalajara\n",
      "Huelva\n",
      "Huesca\n",
      "Illes Balears\n",
      "Jaén\n",
      "La Rioja\n",
      "Las Palmas\n",
      "León\n",
      "Lleida\n",
      "Lugo\n",
      "Madrid\n",
      "Málaga\n",
      "Melilla\n",
      "Murcia\n",
      "Navarra\n",
      "Ourense\n",
      "Palencia\n",
      "Pontevedra\n",
      "Salamanca\n",
      "Santa Cruz de Tenerife\n",
      "Segovia\n",
      "Sevilla\n",
      "Soria\n",
      "Tarragona\n",
      "Teruel\n",
      "Toledo\n",
      "Valencia\n",
      "Valladolid\n",
      "Zamora\n",
      "Zaragoza\n"
     ]
    }
   ],
   "source": [
    "# Llegim l'excel on tenim l'informació de les provincies\n",
    "vots_provincia = 'C:/Users/Pau Program/Documents/Mirror/UIB/MUSI/TFM/VOTS_PER_PROVINCIA_mes_3_percent.xlsx'\n",
    "\n",
    "# Carregar l'arxiu excel\n",
    "vots = pd.ExcelFile(vots_provincia)\n",
    "\n",
    "# Nom de les fulles\n",
    "noms_fulles = vots.sheet_names\n",
    "\n",
    "vots_provincia_dhont = 'C:/Users/Pau Program/Documents/Mirror/UIB/MUSI/TFM/VOTS_PER_PROVINCIA_dhont.xlsx'\n",
    "\n",
    "\n",
    "with pd.ExcelWriter(vots_provincia_dhont, engine='openpyxl') as writer:\n",
    "    # Iterar sobre cada hoja\n",
    "    for fulla in noms_fulles:\n",
    "        # llegim la fulla\n",
    "        df = vots.parse(fulla)\n",
    "        print(fulla)\n",
    "\n",
    "        # separam el nombre de vots a una llista\n",
    "        p = list(df.iloc[:, 1])\n",
    "        # veim el nombre d'escons que corresponen a la provincia\n",
    "        h = escons_per_provincia[fulla]\n",
    "\n",
    "        # calculam el nombre d'escons que correspon a cada partit (suponiendo que tienes la función Dhont definida)\n",
    "        q = quota(p, h)\n",
    "        escons_Dhont = Dhont(p, h)\n",
    "        escons_hamilton = hamilton(p,h)\n",
    "        escons_adams = divisor(p,h,d_adams)\n",
    "        escons_webster = divisor_method(p,h,d_webster)\n",
    "        escons_dean = divisor(p,h,d_dean)\n",
    "        escons_hill = divisor(p,h,d_hill)\n",
    "\n",
    "        df.loc[:, \"QUOTA\"] = q\n",
    "        df.loc[:, \"ESCONS D'HONT\"] = escons_Dhont\n",
    "        df.loc[:,\"ESCONS HAMILTON\"] = escons_hamilton\n",
    "        df.loc[:,\"ESCONS ADAMS\"] = escons_adams\n",
    "        df.loc[:,\"ESCONS WEBSTER\"] = escons_webster\n",
    "        df.loc[:,\"ESCONS DEAN\"] = escons_dean\n",
    "        df.loc[:,\"ESCONS HILL\"] = escons_hill\n",
    "\n",
    "        # Escribir el DataFrame en una nueva hoja con el nombre de la fulla actual\n",
    "        df.to_excel(writer, sheet_name=fulla, index=False)"
   ]
  },
  {
   "cell_type": "code",
   "execution_count": 9,
   "metadata": {},
   "outputs": [
    {
     "name": "stdout",
     "output_type": "stream",
     "text": [
      "['A Coruña', 'Alacant', 'Albacete', 'Almería', 'Álava', 'Asturias', 'Ávila', 'Badajoz', 'Barcelona', 'Bizkaia', 'Burgos', 'Cáceres', 'Cádiz', 'Cantabria', 'Castelló', 'Ceuta', 'Ciudad Real', 'Córdoba', 'Cuenca', 'Gipuzkoa', 'Girona', 'Granada', 'Guadalajara', 'Huelva', 'Huesca', 'Illes Balears', 'Jaén', 'La Rioja', 'Las Palmas', 'León', 'Lleida', 'Lugo', 'Madrid', 'Málaga', 'Melilla', 'Murcia', 'Navarra', 'Ourense', 'Palencia', 'Pontevedra', 'Salamanca', 'Santa Cruz de Tenerife', 'Segovia', 'Sevilla', 'Soria', 'Tarragona', 'Teruel', 'Toledo', 'Valencia', 'Valladolid', 'Zamora', 'Zaragoza']\n"
     ]
    }
   ],
   "source": [
    "print(noms_fulles)"
   ]
  },
  {
   "cell_type": "code",
   "execution_count": 9,
   "metadata": {},
   "outputs": [
    {
     "name": "stdout",
     "output_type": "stream",
     "text": [
      "{'CCa', 'PNV', 'SUMAR', 'NC-bc', 'JxCAT', 'CpM', 'EXISTE', 'B.N.G.', 'U.P.L.', 'EH Bildu', 'PP', 'U.P.N.', 'XAV', 'SY', 'PSOE', 'CUP', 'VOX', 'ERC'}\n"
     ]
    }
   ],
   "source": [
    "partits = []\n",
    "\n",
    "for fulla in noms_fulles:\n",
    "    df = vots.parse(fulla)\n",
    "        \n",
    "    # separam el nombre de vots a una llista\n",
    "    p = list(df.iloc[:, 0])\n",
    "    partits += p\n",
    "\n",
    "print(set(partits))\n"
   ]
  }
 ],
 "metadata": {
  "kernelspec": {
   "display_name": "entorno_musi",
   "language": "python",
   "name": "python3"
  },
  "language_info": {
   "codemirror_mode": {
    "name": "ipython",
    "version": 3
   },
   "file_extension": ".py",
   "mimetype": "text/x-python",
   "name": "python",
   "nbconvert_exporter": "python",
   "pygments_lexer": "ipython3",
   "version": "3.11.5"
  }
 },
 "nbformat": 4,
 "nbformat_minor": 2
}
