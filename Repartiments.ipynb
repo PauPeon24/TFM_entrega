{
 "cells": [
  {
   "cell_type": "code",
   "execution_count": 1,
   "metadata": {},
   "outputs": [],
   "source": [
    "import pandas as pd\n",
    "import openpyxl\n",
    "import math\n",
    "import statistics"
   ]
  },
  {
   "cell_type": "markdown",
   "metadata": {},
   "source": [
    "# Repartiment d'escons per provincia segons el mètode"
   ]
  },
  {
   "cell_type": "markdown",
   "metadata": {},
   "source": [
    "Diccionari amb el nombre de votants per provincia"
   ]
  },
  {
   "cell_type": "code",
   "execution_count": 2,
   "metadata": {},
   "outputs": [],
   "source": [
    "votants = pd.read_excel(\"C:/Users/Pau Program/Documents/Mirror/UIB/MUSI/TFM/Votants_per_provincia.xlsx\")\n",
    "\n",
    "provincies = list(votants.iloc[:,0])\n",
    "escons_provincia = list(votants.iloc[:,8])\n",
    "\n",
    "escons_per_provincia = {provincia:escons for provincia, escons in zip(provincies, escons_provincia)} "
   ]
  },
  {
   "cell_type": "markdown",
   "metadata": {},
   "source": [
    "A Espanya, el repartiment d'escons per provincia ve establert en base a la quota Hare com s'indica a (insertar referencia de la junta electoral)"
   ]
  },
  {
   "cell_type": "markdown",
   "metadata": {},
   "source": [
    "El mètode D'Hont estableix que un partit pot obtenir un escon a la seva circumscirpció provincial només si supera el 3% dels vots totals. Així, els vots en blanc a l'únic que afecten és a incrementar el nombre de vots necessaris per obtenir un escon."
   ]
  },
  {
   "cell_type": "markdown",
   "metadata": {},
   "source": [
    "## Funcions"
   ]
  },
  {
   "cell_type": "code",
   "execution_count": 3,
   "metadata": {},
   "outputs": [],
   "source": [
    "def quota(p, h):\n",
    "    P = sum(p)\n",
    "    q = [h*pi/P for pi in p]\n",
    "\n",
    "    return q\n",
    "\n",
    "def hamilton(p, h):\n",
    "    # Calculam les quotes i els floors de les mateixes\n",
    "    q = quota(p, h)\n",
    "    b = [math.floor(qi) for qi in q]\n",
    "    \n",
    "    # Extreim la part decimal de les quotes\n",
    "    dec = [qi-bi for (qi, bi) in zip(q, b)]\n",
    "\n",
    "    # Guardam la posició de cada quota per saber a quina població correspon al realitzar l'ordenació\n",
    "    dec_pos = [(d,i) for (d,i) in zip(dec, range(0, len(p)))]\n",
    "    ordenada = sorted(dec_pos, key=lambda x: x[0], reverse = True)\n",
    "\n",
    "    # Calculam els escons que queden a repartir\n",
    "    rest = h -sum(b)\n",
    "\n",
    "    # Afegim un escon a les h-sum(b) poblacions amb les quotes amb part decimal més gran\n",
    "    for i in range(0, rest):\n",
    "        b[ordenada[i][1]] += 1\n",
    "        \n",
    "    return b"
   ]
  },
  {
   "cell_type": "code",
   "execution_count": 10,
   "metadata": {},
   "outputs": [],
   "source": [
    "def divisor_method(population, house, d):\n",
    "    escons = [0]*len(population)\n",
    "\n",
    "    # Mentre que els escons repartits no sigui igual a la mida de la cambra \n",
    "    while sum(escons) < house:\n",
    "        # Calculam les poblacions entre d(el nombre d'escons que té cada estat fins al moment)\n",
    "        populations_compare = [p/d(e) for p,e in \n",
    "                               zip(population,escons)]\n",
    "        # Agafam l'estat que té el màxim a aqueix valor\n",
    "        max_val = max(populations_compare)\n",
    "        max_ind = populations_compare.index(max_val)\n",
    "        # Sumam un escon a aquest estat\n",
    "        escons[max_ind] += 1\n",
    "    \n",
    "    return escons\n",
    "\n",
    "def d_adams(a):\n",
    "    return a\n",
    "\n",
    "def d_jefferson(a):\n",
    "    return a + 1\n",
    "\n",
    "def d_webster(a):\n",
    "    return a + 1/2\n",
    "\n",
    "def d_dean(a):\n",
    "    return (a*(a+1))/(a + 1/2)\n",
    "\n",
    "def d_hill(a):\n",
    "    return math.sqrt(a*(a+1))"
   ]
  },
  {
   "cell_type": "code",
   "execution_count": 5,
   "metadata": {},
   "outputs": [],
   "source": [
    "def divisor(p, h, d):\n",
    "    # El primer divisor a provar és ds\n",
    "    ds = sum(p)/h\n",
    "    divisor = ds\n",
    "    inf = 0\n",
    "    sup = ds**10\n",
    "    a = [0]*len(p)\n",
    "    if d(0) == 0:\n",
    "        if h <= len(p):\n",
    "            for i in range(0, h):\n",
    "                a[i] += 1\n",
    "        else:\n",
    "            a = [1]*len(p)\n",
    "    \n",
    "    i = 0\n",
    "    while sum(a) != h and i <= 1000:\n",
    "        i += 1\n",
    "        # Calculam les quotes modificades\n",
    "        q = [pi/divisor for pi in p]\n",
    "        # Calculam el repartiment\n",
    "        a = [math.floor(qi) if (d(math.floor(qi)-1) <= qi \n",
    "                                and qi <= d(math.floor(qi))) \n",
    "                                else math.ceil(qi) for qi in q]\n",
    "        # Si la suma dels escons repartits és menor que la mida de la cambra, agafam un divisor menor\n",
    "        if sum(a) < h:\n",
    "            sup = divisor\n",
    "            divisor = statistics.mean([inf,sup])\n",
    "        # Si la suma dels escons a repartir és superior que la mida de la cambra, agafam un divisor superior\n",
    "        if sum(a) > h:\n",
    "            inf = divisor\n",
    "            divisor = statistics.mean([inf,sup])\n",
    "\n",
    "         \n",
    "    return a"
   ]
  },
  {
   "cell_type": "code",
   "execution_count": 6,
   "metadata": {},
   "outputs": [],
   "source": [
    "def Dhont(population, house):\n",
    "    escons = [0]*len(population)\n",
    "    while sum(escons) < house:\n",
    "        populations_compare = [p/(e+1) for p,e in zip(population,escons)]\n",
    "\n",
    "        max_val = max(populations_compare)\n",
    "        max_ind = populations_compare.index(max_val)\n",
    "\n",
    "        escons[max_ind] += 1\n",
    "    \n",
    "    return escons"
   ]
  },
  {
   "cell_type": "code",
   "execution_count": 41,
   "metadata": {},
   "outputs": [],
   "source": [
    "def metode_quota(population, house):\n",
    "    # Començam amb 0 escons\n",
    "    escons = [0]*len(population)\n",
    "    # Calculam les quotes de cada estat\n",
    "    q = quota(population, house)\n",
    "    \n",
    "    # Mentre no estigui assignats tots els escons\n",
    "    while sum(escons) < house:\n",
    "        # calculam les poblacions entre el nombre d'escons que té cada estat fins al moment + 1\n",
    "        populations_compare = [p/(e+1) for p,e \n",
    "                               in zip(population,escons)]\n",
    "\n",
    "        # Agafam l'estat amb el màxim valor a la llista anterior\n",
    "        max_val = max(populations_compare)\n",
    "        max_ind = populations_compare.index(max_val)\n",
    "\n",
    "        # Si assignar un escon no suposa violar la quota de l'estat, afegim l'escon a l'estat\n",
    "        if escons[max_ind] <= math.floor(q[max_ind]):\n",
    "            escons[max_ind] += 1\n",
    "\n",
    "        # Si assignar un escon suposa violar la quota, no repartim cap escon més a aqueix estat\n",
    "        else:\n",
    "            population[max_ind] = 0\n",
    "\n",
    "    \n",
    "    return escons"
   ]
  },
  {
   "cell_type": "code",
   "execution_count": 39,
   "metadata": {},
   "outputs": [
    {
     "name": "stdout",
     "output_type": "stream",
     "text": [
      "[52, 45, 1, 1, 1]\n",
      "[52, 44, 2, 1, 1]\n"
     ]
    }
   ],
   "source": [
    "p = [5117, 4400, 162, 161, 160]\n",
    "h = 100\n",
    "\n",
    "print(Dhont(p, h))\n",
    "print(metode_quota(p, h))"
   ]
  },
  {
   "cell_type": "markdown",
   "metadata": {},
   "source": [
    "Jefferson y D'Hont son exactament el mateix mètode."
   ]
  },
  {
   "cell_type": "code",
   "execution_count": 42,
   "metadata": {},
   "outputs": [
    {
     "name": "stdout",
     "output_type": "stream",
     "text": [
      "[52, 45, 1, 1, 1]\n",
      "[52, 45, 1, 1, 1]\n",
      "[51, 44, 2, 2, 1]\n",
      "[51, 43, 2, 2, 2]\n",
      "[51, 43, 2, 2, 2]\n",
      "[51, 43, 2, 2, 2]\n",
      "[51, 43, 2, 2, 2]\n",
      "[52, 44, 2, 1, 1]\n"
     ]
    }
   ],
   "source": [
    "p = [5117, 4400, 162, 161, 160]\n",
    "h = 100\n",
    "\n",
    "print(Dhont(p, h))\n",
    "print(divisor_method(p, h, d_jefferson))\n",
    "print(hamilton(p,h))\n",
    "print(divisor(p,h,d_adams))\n",
    "print(divisor_method(p,h,d_webster))\n",
    "print(divisor(p,h,d_dean))\n",
    "print(divisor(p,h,d_hill))\n",
    "print(metode_quota(p, h))"
   ]
  },
  {
   "cell_type": "markdown",
   "metadata": {},
   "source": [
    "### Càlcul d'escons pels diferents mètodes"
   ]
  },
  {
   "cell_type": "code",
   "execution_count": 44,
   "metadata": {},
   "outputs": [
    {
     "name": "stdout",
     "output_type": "stream",
     "text": [
      "A Coruña\n",
      "[287997, 188184, 81345, 66996, 33606] 8\n",
      "A Coruña\n",
      "Alacant\n",
      "[329167, 286424, 145562, 114973] 12\n",
      "Alacant\n",
      "Albacete\n",
      "[88144, 75969, 36698, 15677] 4\n",
      "Albacete\n",
      "Almería\n",
      "[130652, 92221, 67963, 21127] 6\n",
      "Almería\n",
      "Álava\n",
      "[46476, 32844, 29985, 27936, 21407, 6500] 4\n",
      "Álava\n",
      "Asturias\n",
      "[209581, 202280, 87534, 73438] 7\n",
      "Asturias\n",
      "Ávila\n",
      "[42105, 26481, 14985, 7321, 4948] 3\n",
      "Ávila\n",
      "Badajoz\n",
      "[152922, 147685, 53304, 26576] 5\n",
      "Badajoz\n",
      "Barcelona\n",
      "[946055, 402527, 363857, 326388, 256231, 200138] 32\n",
      "Barcelona\n",
      "Bizkaia\n",
      "[163508, 156639, 125418, 69771, 66189] 8\n",
      "Bizkaia\n",
      "Burgos\n",
      "[81626, 69060, 25577, 17249] 4\n",
      "Burgos\n",
      "Cáceres\n",
      "[91034, 89251, 31878, 16170] 4\n",
      "Cáceres\n",
      "Cádiz\n",
      "[221020, 210596, 96391, 81544] 9\n",
      "Cádiz\n",
      "Cantabria\n",
      "[145937, 115554, 48788, 29270] 5\n",
      "Cantabria\n",
      "Castelló\n",
      "[107824, 99856, 48762, 43720] 5\n",
      "Castelló\n",
      "Ceuta\n",
      "[12885, 11299, 7742] 1\n",
      "Ceuta\n",
      "Ciudad Real\n",
      "[114443, 99800, 45942, 17256] 5\n",
      "Ciudad Real\n",
      "Córdoba\n",
      "[169356, 143291, 62264, 61063] 6\n",
      "Córdoba\n",
      "Cuenca\n",
      "[45159, 42358, 17660, 6282] 3\n",
      "Cuenca\n",
      "Gipuzkoa\n",
      "[116414, 86711, 84338, 39435, 32033] 6\n",
      "Gipuzkoa\n",
      "Girona\n",
      "[92609, 62809, 47234, 35118, 31042, 22514, 18106] 6\n",
      "Girona\n",
      "Granada\n",
      "[184492, 164330, 80466, 57842] 7\n",
      "Granada\n",
      "Guadalajara\n",
      "[50988, 46184, 26981, 12792] 3\n",
      "Guadalajara\n",
      "Huelva\n",
      "[93400, 92098, 37485, 26607] 5\n",
      "Huelva\n",
      "Huesca\n",
      "[45562, 39899, 15073, 13624] 3\n",
      "Huesca\n",
      "Illes Balears\n",
      "[178715, 151134, 83116, 76302] 8\n",
      "Illes Balears\n",
      "Jaén\n",
      "[137180, 133280, 54223, 29208] 5\n",
      "Jaén\n",
      "La Rioja\n",
      "[79113, 61916, 16880, 11320] 4\n",
      "La Rioja\n",
      "Las Palmas\n",
      "[174767, 136287, 76982, 53992, 42422, 33327] 8\n",
      "Las Palmas\n",
      "León\n",
      "[100327, 91239, 34974, 22499, 18147] 4\n",
      "León\n",
      "Lleida\n",
      "[53860, 34063, 33001, 23428, 14407, 12461] 4\n",
      "Lleida\n",
      "Lugo\n",
      "[98105, 59053, 16975, 10038, 8345] 4\n",
      "Lugo\n",
      "Madrid\n",
      "[1443881, 993870, 550389, 499733] 37\n",
      "Madrid\n",
      "Málaga\n",
      "[299977, 236935, 128965, 95662] 11\n",
      "Málaga\n",
      "Melilla\n",
      "[13369, 6892, 4345, 1279, 821] 1\n",
      "Melilla\n",
      "Murcia\n",
      "[306999, 187971, 162481, 70900] 10\n",
      "Murcia\n",
      "Navarra\n",
      "[92798, 58686, 56483, 51764, 43564, 19213] 5\n",
      "Navarra\n",
      "Ourense\n",
      "[90185, 54919, 15110, 9825, 8415] 4\n",
      "Ourense\n",
      "Palencia\n",
      "[40263, 33183, 12417, 5792] 3\n",
      "Palencia\n",
      "Pontevedra\n",
      "[223226, 177199, 74605, 53246, 26648] 7\n",
      "Pontevedra\n",
      "Salamanca\n",
      "[92498, 59790, 28959, 10760] 4\n",
      "Salamanca\n",
      "Santa Cruz de Tenerife\n",
      "[173222, 164533, 81391, 53330] 7\n",
      "Santa Cruz de Tenerife\n",
      "Segovia\n",
      "[39621, 26791, 12426, 7020] 3\n",
      "Segovia\n",
      "Sevilla\n",
      "[386513, 352102, 147773, 140522] 12\n",
      "Sevilla\n",
      "Soria\n",
      "[18647, 14775, 9626, 4894, 1679] 2\n",
      "Soria\n",
      "Tarragona\n",
      "[120482, 55198, 50790, 41496, 40593, 37910] 6\n",
      "Tarragona\n",
      "Teruel\n",
      "[26495, 22048, 11292, 9899, 4081] 3\n",
      "Teruel\n",
      "Toledo\n",
      "[146036, 125440, 75827, 31620] 6\n",
      "Toledo\n",
      "Valencia\n",
      "[481424, 458879, 240712, 217703] 16\n",
      "Valencia\n",
      "Valladolid\n",
      "[128342, 102860, 47697, 27693] 5\n",
      "Valladolid\n",
      "Zamora\n",
      "[45550, 32996, 13448, 5730] 3\n",
      "Zamora\n",
      "Zaragoza\n",
      "[185613, 158517, 78915, 69239] 7\n",
      "Zaragoza\n"
     ]
    }
   ],
   "source": [
    "# Llegim l'excel on tenim l'informació de les provincies\n",
    "vots_provincia = 'C:/Users/Pau Program/Documents/Mirror/UIB/MUSI/TFM/VOTS_PER_PROVINCIA_mes_3_percent.xlsx'\n",
    "\n",
    "# Carregar l'arxiu excel\n",
    "vots = pd.ExcelFile(vots_provincia)\n",
    "\n",
    "# Nom de les fulles\n",
    "noms_fulles = vots.sheet_names\n",
    "\n",
    "vots_provincia_dhont = 'C:/Users/Pau Program/Documents/Mirror/UIB/MUSI/TFM/VOTS_PER_PROVINCIA_dhont.xlsx'\n",
    "\n",
    "\n",
    "with pd.ExcelWriter(vots_provincia_dhont, \n",
    "                    engine='openpyxl') as writer:\n",
    "    # Iterar sobre cada fulla\n",
    "    for fulla in noms_fulles:\n",
    "        # llegim la fulla\n",
    "        df = vots.parse(fulla)\n",
    "        print(fulla)\n",
    "\n",
    "        # separam el nombre de vots a una llista\n",
    "        p = list(df.iloc[:, 1])\n",
    "        # veim el nombre d'escons que corresponen a la provincia\n",
    "        h = int(escons_per_provincia[fulla])\n",
    "\n",
    "        print(p, h)\n",
    "\n",
    "        # calculam el nombre d'escons que correspon a cada partit \n",
    "        q = quota(p, h)\n",
    "        escons_Dhont = Dhont(p, h)\n",
    "        escons_hamilton = hamilton(p,h)\n",
    "        print(fulla)\n",
    "        escons_adams = divisor(p,h,d_adams)\n",
    "        escons_webster = divisor_method(p,h,d_webster)\n",
    "        escons_dean = divisor(p,h,d_dean)\n",
    "        escons_hill = divisor(p,h,d_hill)\n",
    "        escons_quota = metode_quota(p, h)\n",
    "\n",
    "        df.loc[:, \"QUOTA\"] = q\n",
    "        df.loc[:, \"ESCONS D'HONT\"] = escons_Dhont\n",
    "        df.loc[:,\"ESCONS HAMILTON\"] = escons_hamilton\n",
    "        df.loc[:,\"ESCONS ADAMS\"] = escons_adams\n",
    "        df.loc[:,\"ESCONS WEBSTER\"] = escons_webster\n",
    "        df.loc[:,\"ESCONS DEAN\"] = escons_dean\n",
    "        df.loc[:,\"ESCONS HILL\"] = escons_hill\n",
    "        df.loc[:,\"ESCONS QUOTA\"] = escons_quota\n",
    "\n",
    "        # Escriure el dataframe a una nova fulla amb el nom actual de la fulla\n",
    "        df.to_excel(writer, sheet_name=fulla, index=False)"
   ]
  },
  {
   "cell_type": "code",
   "execution_count": 9,
   "metadata": {},
   "outputs": [
    {
     "name": "stdout",
     "output_type": "stream",
     "text": [
      "['A Coruña', 'Alacant', 'Albacete', 'Almería', 'Álava', 'Asturias', 'Ávila', 'Badajoz', 'Barcelona', 'Bizkaia', 'Burgos', 'Cáceres', 'Cádiz', 'Cantabria', 'Castelló', 'Ceuta', 'Ciudad Real', 'Córdoba', 'Cuenca', 'Gipuzkoa', 'Girona', 'Granada', 'Guadalajara', 'Huelva', 'Huesca', 'Illes Balears', 'Jaén', 'La Rioja', 'Las Palmas', 'León', 'Lleida', 'Lugo', 'Madrid', 'Málaga', 'Melilla', 'Murcia', 'Navarra', 'Ourense', 'Palencia', 'Pontevedra', 'Salamanca', 'Santa Cruz de Tenerife', 'Segovia', 'Sevilla', 'Soria', 'Tarragona', 'Teruel', 'Toledo', 'Valencia', 'Valladolid', 'Zamora', 'Zaragoza']\n"
     ]
    }
   ],
   "source": [
    "print(noms_fulles)"
   ]
  },
  {
   "cell_type": "code",
   "execution_count": null,
   "metadata": {},
   "outputs": [
    {
     "name": "stdout",
     "output_type": "stream",
     "text": [
      "{'CCa', 'PNV', 'SUMAR', 'NC-bc', 'JxCAT', 'CpM', 'EXISTE', 'B.N.G.', 'U.P.L.', 'EH Bildu', 'PP', 'U.P.N.', 'XAV', 'SY', 'PSOE', 'CUP', 'VOX', 'ERC'}\n"
     ]
    }
   ],
   "source": [
    "partits = []\n",
    "\n",
    "for fulla in noms_fulles:\n",
    "    df = vots.parse(fulla)\n",
    "        \n",
    "    # separam el nombre de vots a una llista\n",
    "    p = list(df.iloc[:, 0])\n",
    "    partits += p\n",
    "\n",
    "print(set(partits))\n"
   ]
  }
 ],
 "metadata": {
  "kernelspec": {
   "display_name": "entorno_musi",
   "language": "python",
   "name": "python3"
  },
  "language_info": {
   "codemirror_mode": {
    "name": "ipython",
    "version": 3
   },
   "file_extension": ".py",
   "mimetype": "text/x-python",
   "name": "python",
   "nbconvert_exporter": "python",
   "pygments_lexer": "ipython3",
   "version": "3.11.5"
  }
 },
 "nbformat": 4,
 "nbformat_minor": 2
}
